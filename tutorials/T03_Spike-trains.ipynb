{
 "cells": [
  {
   "cell_type": "markdown",
   "metadata": {},
   "source": [
    "# T3 Wrangling spike-trains"
   ]
  },
  {
   "cell_type": "markdown",
   "metadata": {},
   "source": [
    "## Toy example of a light sensitive neuron"
   ]
  },
  {
   "cell_type": "markdown",
   "metadata": {},
   "source": [
    "Let us consider a neuron, which is alive, that is capable of sending spikes. This particular neuron will generally not send any spikes in the dark, and this neuron will send spikes if you shine green light (e.g. at wavelength 550 nm) on it. Let's also assume that we have a recording electrode near the soma (the point where this neuron sends spikes). Through this electrode, we can record when this neuron is firing over time. \n",
    "The result of this recording is a list of `0`s for when no spike was emitted and `1`s for when a spike was emitted. This array is saved in the variable `spikeTrain`."
   ]
  },
  {
   "cell_type": "code",
   "execution_count": 1,
   "metadata": {},
   "outputs": [],
   "source": [
    "import numpy as np\n",
    "\n",
    "spikeTrain = np.array([0,0,0,0,0,0,0,0,0,1,0,1,0,1,0,0,0,1,0,0,0])"
   ]
  },
  {
   "cell_type": "markdown",
   "metadata": {},
   "source": [
    "This neuron is spiking when illuminated with green light. So let's indicate the time points during which the green light in on in bold : [0,1,2,3,4,**5,6,7,8,9,10,11,12,13,**14,15,16,17,18,19,20]. Each time point above is in unites of milliseconds, which means that the light started at 5 ms and lasted until 13 ms. It stayed on for 9 ms. "
   ]
  },
  {
   "cell_type": "markdown",
   "metadata": {},
   "source": [
    "#### Basic questions about the spike train\n",
    "\n",
    "First, we will extract some basic information about the spike train. \n",
    "\n",
    "* How many spikes did the neuron fire in total during the recording period? \n",
    "* How long is the recording period? \n",
    "* What is the average firing rate of the neuron during the recording period? \n",
    "* At which time points do the spikes occur?"
   ]
  },
  {
   "cell_type": "code",
   "execution_count": 5,
   "metadata": {},
   "outputs": [
    {
     "name": "stdout",
     "output_type": "stream",
     "text": [
      "The total number of spikes is : 4\n",
      "The length of the recording is : 21 ms\n",
      "The average firing rate is : 190.47619047619048 spikes/s\n",
      "The spike-times are :  (array([ 9, 11, 13, 17]),)\n",
      "The neuron fired at spikes at  9 ms\n",
      "The neuron fired at spikes at  11 ms\n",
      "The neuron fired at spikes at  13 ms\n",
      "The neuron fired at spikes at  17 ms\n"
     ]
    }
   ],
   "source": [
    "print('The total number of spikes is :',np.sum(spikeTrain))\n",
    "print('The length of the recording is :',len(spikeTrain), 'ms')\n",
    "# note that ms have to be converted in seconds for calculating the rate\n",
    "print('The average firing rate is :', np.sum(spikeTrain)*1000./len(spikeTrain) , 'spikes/s') \n",
    "\n",
    "# obtain spike-times with numpy where function\n",
    "spikeTimes = np.where(spikeTrain==1)\n",
    "\n",
    "print('The spike-times are : ',spikeTimes)\n",
    "# alternative solution with for loop\n",
    "for n in np.arange(len(spikeTrain)):\n",
    "    if spikeTrain[n]==1:\n",
    "        print('The neuron fired at spikes at ',n,'ms')\n",
    "\n"
   ]
  },
  {
   "cell_type": "markdown",
   "metadata": {},
   "source": [
    "#### Response latency\n",
    "\n",
    "The time it takes the neuron to be reponsive, i.e., for a neuron to spike in response to a stimulus - in our case green light - is known as the **response latency**. \n",
    "\n",
    "* Calculate the latency to first spike after stimulus onset for the given spike-train. "
   ]
  },
  {
   "cell_type": "code",
   "execution_count": 6,
   "metadata": {},
   "outputs": [
    {
     "name": "stdout",
     "output_type": "stream",
     "text": [
      "the response latency is : 4 ms\n"
     ]
    }
   ],
   "source": [
    "# we look at the first spike during the stimulus presentation\n",
    "# we substract the stimulus onset - at 5 ms - to get the response latency\n",
    "print('the response latency is :',spikeTimes[0][0]-5,'ms')"
   ]
  },
  {
   "cell_type": "markdown",
   "metadata": {},
   "source": [
    "#### Raster plot\n",
    "\n",
    "Let't make a plot and illustrate the spike-train. The plot the spiking activity we need to know the time of every spike in the array. People sometimes called these the *spike timestamps*, or *spiketimes*. To plot the spikes, we will use the common visualization method of a **spike raster plot**. In such a plot, each spike is represented as a vertical line, at the time when it occurred, with time on the x-axis.\n",
    "\n",
    "* Plot the raster plot of the spiketrain using the `matplotlib.pyplot` `vlines()` function. This function takes the x-locations as well as the minimum value and the maximum value of the vertial lines as input argument. \n",
    "* Mark the stimulus period with as green shaded region in the plot by making use of the `matplotlib.pyplot` `axvspan()` function (input arguments are the x start and stop values). "
   ]
  },
  {
   "cell_type": "code",
   "execution_count": 8,
   "metadata": {},
   "outputs": [
    {
     "data": {
      "text/plain": [
       "(0, 20)"
      ]
     },
     "execution_count": 8,
     "metadata": {},
     "output_type": "execute_result"
    },
    {
     "data": {
      "image/png": "[encoded data removed]",
      "text/plain": [
       "<Figure size 432x288 with 1 Axes>"
      ]
     },
     "metadata": {
      "needs_background": "light"
     },
     "output_type": "display_data"
    }
   ],
   "source": [
    "import matplotlib.pyplot as plt\n",
    "%matplotlib inline\n",
    "\n",
    "plt.vlines(spikeTimes,1,2,color='red')\n",
    "plt.axvspan(5,13,color='green',alpha=0.2)\n",
    "plt.xlim(0,20)"
   ]
  },
  {
   "cell_type": "markdown",
   "metadata": {},
   "source": [
    "#### Multiple recordings of the same neuron\n",
    "\n",
    "What if there is some mechanism inside the neuron that causes it to spike highly unreliably? What if we are recording the signals of this neuron in a noisy environment? To address this, we would need to stimulate and record the neuron multiple times (ideally many times). \n",
    "\n",
    "Below are the spike-trains of the neuron from ten identical recordings, i.e., the green light simulus was on always during the [5,13] ms time window. "
   ]
  },
  {
   "cell_type": "code",
   "execution_count": 10,
   "metadata": {},
   "outputs": [],
   "source": [
    "tenSpikeTrains = np.array([[0,0,0,0,0,0,0,0,0,1,0,1,0,1,0,0,0,1,0,0,0],\\\n",
    "                  [0,0,0,0,0,0,0,0,1,1,0,0,0,1,0,0,0,1,0,0,0],\\\n",
    "                  [0,1,0,0,0,0,0,0,0,0,1,0,0,1,0,0,0,0,0,1,0],\\\n",
    "                  [0,0,0,0,0,0,0,0,1,1,0,1,0,0,0,0,0,0,1,0,0],\\\n",
    "                  [0,0,0,0,0,0,0,0,0,1,0,0,1,0,0,0,0,0,0,0,0],\\\n",
    "                  [0,0,0,0,0,0,0,0,0,0,1,1,0,0,0,1,0,0,0,1,0],\\\n",
    "                  [0,0,0,0,0,0,0,0,1,1,1,0,0,1,1,0,0,1,1,0,0],\\\n",
    "                  [1,0,0,0,0,0,0,0,0,0,1,1,0,0,0,0,1,0,0,0,0],\\\n",
    "                  [0,0,0,0,0,0,0,0,1,1,0,0,1,1,0,0,1,1,0,0,0],\\\n",
    "                  [0,0,0,0,0,0,1,0,0,1,0,1,0,0,0,0,0,1,1,0,0]])"
   ]
  },
  {
   "cell_type": "markdown",
   "metadata": {},
   "source": [
    "#### Visualize the recordings in a raster plot\n",
    "\n",
    "In order to make a raster plot of the data from **all** the trials, let's use a similar method we used for the data from a single trial, except that we cycle through each array in the array. \n",
    "\n",
    "* Plot a raster-plot of all the data using a `for` loop and the `vlines()` visualization function. \n",
    "* Indicate the stimulus period in the plot. "
   ]
  },
  {
   "cell_type": "code",
   "execution_count": 11,
   "metadata": {},
   "outputs": [
    {
     "data": {
      "text/plain": [
       "(0, 20)"
      ]
     },
     "execution_count": 11,
     "metadata": {},
     "output_type": "execute_result"
    },
    {
     "data": {
      "image/png": "[encoded data removed]",
      "text/plain": [
       "<Figure size 432x288 with 1 Axes>"
      ]
     },
     "metadata": {
      "needs_background": "light"
     },
     "output_type": "display_data"
    }
   ],
   "source": [
    "for i in range(len(tenSpikeTrains)):\n",
    "    spikeTimes = np.where(tenSpikeTrains[i]==1)\n",
    "    plt.vlines(spikeTimes,i+0.1,i+0.9,color='red')\n",
    "plt.axvspan(5,13,color='green',alpha=0.2)\n",
    "plt.xlim(0,20)"
   ]
  },
  {
   "cell_type": "markdown",
   "metadata": {},
   "source": [
    "## The end"
   ]
  }
 ],
 "metadata": {
  "kernelspec": {
   "display_name": "Python 3",
   "language": "python",
   "name": "python3"
  },
  "language_info": {
   "codemirror_mode": {
    "name": "ipython",
    "version": 3
   },
   "file_extension": ".py",
   "mimetype": "text/x-python",
   "name": "python",
   "nbconvert_exporter": "python",
   "pygments_lexer": "ipython3",
   "version": "3.6.7"
  }
 },
 "nbformat": 4,
 "nbformat_minor": 1
}
