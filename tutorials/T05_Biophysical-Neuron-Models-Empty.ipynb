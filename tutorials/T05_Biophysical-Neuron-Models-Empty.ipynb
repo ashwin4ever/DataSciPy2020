{
 "cells": [
  {
   "cell_type": "markdown",
   "metadata": {},
   "source": [
    "# TD 5: Numerical integration of ODEs, and application to the Leaky Integrate-and-Fire neuron model\n",
    "---\n",
    "\n",
    "In this tutorial, we will first introduce methods for the numerical integration of differential equations. We will then use those methods to implement a simulation of an Integrate-and-Fire neuron."
   ]
  },
  {
   "cell_type": "markdown",
   "metadata": {},
   "source": [
    "## A short introduction to the numerical integration of differential equations\n",
    "\n",
    "The time evolution of physical systems (planets & membrane voltages) is often described by differential equations, i.e., some equation of the type\n",
    "\n",
    "$$ \\frac{dx}{dt} = f(x, t) $$\n",
    "\n",
    "When those equations are simple (when $f$ is a simple function), we can solve such equations analytically. An example would be $\\dot x = -x/\\tau$.\n",
    "\n",
    "However, it may come in handy to be able to solve such equations numerically, either to check an analytical result or because we haven't been able to fine one (it might not even exist in closed form).\n",
    "\n"
   ]
  },
  {
   "cell_type": "code",
   "execution_count": null,
   "metadata": {},
   "outputs": [],
   "source": [
    "# some imports for the numerics to follow, you'll be familiar with these\n",
    "%matplotlib notebook\n",
    "from pylab import *"
   ]
  },
  {
   "cell_type": "code",
   "execution_count": null,
   "metadata": {},
   "outputs": [],
   "source": [
    "# Decay dynamics\n",
    "\n",
    "tau = 7.    # decay time constant, in ms\n",
    "V0 = 20.    # initial voltage, in mV\n",
    "EL = -50.   # resting potential, in mV\n",
    "\n",
    "t = arange(0, 100, 10)\n",
    "\n",
    "# We know the ODE that governs the\n",
    "# dynamics of the potential!\n",
    "def dvdt(v):\n",
    "    return (EL+I-V)/tau\n",
    "\n",
    "# For this simple case, we already know\n",
    "# the solution of the ODE:\n",
    "def v_theory(t):\n",
    "    return (V0-EL)*exp(-t/tau) + EL\n",
    "\n",
    "plot(t, v_theory(t))\n",
    "xlabel('time (ms)')\n",
    "ylabel('voltage (mV)')"
   ]
  },
  {
   "cell_type": "markdown",
   "metadata": {},
   "source": [
    "Question: can we compute the time course $V(t)$ of the potential by using the ODE?"
   ]
  },
  {
   "cell_type": "markdown",
   "metadata": {},
   "source": [
    "#### Euler method\n",
    "\n",
    "A very simple and straightforward method to numerically solve differential equations is the *Euler method*, which relies on the discretization in time of the dynamics and the approximation of the time derivative by a finite difference between subsequent time points:\n",
    "\n",
    "$$\\frac{dx}{dt}\\approx\\frac{\\Delta x}{\\Delta t} \\ \\ \\Rightarrow \\ \\ \\Delta x \\approx \\Delta t \\frac{dx}{dt}=\\Delta t f(x,t)$$\n",
    "\n",
    "That is, for $x(t+\\Delta t) = x(t) + \\Delta x$ we obtain:\n",
    "\n",
    "$$ x(t+\\Delta t) = x(t) + \\Delta t f(x,t)$$"
   ]
  },
  {
   "cell_type": "code",
   "execution_count": null,
   "metadata": {},
   "outputs": [],
   "source": [
    "# Can you translate the Euler formula into an algorithm?\n",
    "\n",
    "# We should define a time step and an integration time:\n",
    "dt = 0.1\n",
    "T = 100.\n",
    "nt = int(T/dt)\n",
    "\n",
    "# An empty array to be filled with the computed values\n",
    "# of the voltage:\n",
    "v_euler = zeros(nt)\n",
    "\n",
    "# Initial condition\n",
    "v_euler[0] = V0\n",
    "\n",
    "# ..."
   ]
  },
  {
   "cell_type": "code",
   "execution_count": null,
   "metadata": {
    "scrolled": false
   },
   "outputs": [],
   "source": [
    "# Plot here the theoretical result \n",
    "# together with your numerical solution."
   ]
  },
  {
   "cell_type": "markdown",
   "metadata": {},
   "source": [
    "When using the Euler integration method, **the result crucially depends on the time step** used! \n",
    "\n",
    "*Question:* How do we know that the result is correct? \n",
    "\n",
    "*Answer:* Repeat integration with finer resolution (half the time step) and check for convergence!"
   ]
  },
  {
   "cell_type": "code",
   "execution_count": null,
   "metadata": {},
   "outputs": [],
   "source": [
    "# Repeat the above for different time steps and compare."
   ]
  },
  {
   "cell_type": "markdown",
   "metadata": {},
   "source": [
    "#### Other methods: using the `scipy` ODE solver\n",
    "\n",
    "The undeniable advantage of the Euler method is it's simplicity. In many circumstances, one can use much more powerful algorithms; powerful in the sense of better convergence to the true result with respect to the time step used, robustness, etc. However, in almost all practical situations, the easiest option is to use built-in ODE solvers. One such solver is part of the `scipy` python module: `scipy.optimize.odeint` \n"
   ]
  },
  {
   "cell_type": "code",
   "execution_count": null,
   "metadata": {},
   "outputs": [],
   "source": [
    "# We can use a numerical solver that is already \n",
    "# programmed for us!\n",
    "from scipy.integrate import odeint"
   ]
  },
  {
   "cell_type": "code",
   "execution_count": null,
   "metadata": {},
   "outputs": [],
   "source": [
    "# check out the documentation\n",
    "odeint?"
   ]
  },
  {
   "cell_type": "code",
   "execution_count": null,
   "metadata": {},
   "outputs": [],
   "source": [
    "# Can you use odeint to obtain another numerical solution\n",
    "# for v(t)? "
   ]
  },
  {
   "cell_type": "code",
   "execution_count": null,
   "metadata": {},
   "outputs": [],
   "source": [
    "# Plot a comparison of the theoretical and the two\n",
    "# numerical solutions here."
   ]
  },
  {
   "cell_type": "markdown",
   "metadata": {},
   "source": [
    "**NOTE:** `scipy.odeint` requires the derivative function to take time as second argument!"
   ]
  },
  {
   "cell_type": "markdown",
   "metadata": {},
   "source": [
    "## Simulation of a Leaky Integrate-and-Fire neuron\n",
    "\n",
    "We are now equipped to simulate a LIF neuron for arbitrary input current. Think about which method you would choose to solve the ODE for the membrane potential. Do you have an idea how to implement the threshold condition and the reset?"
   ]
  },
  {
   "cell_type": "code",
   "execution_count": null,
   "metadata": {},
   "outputs": [],
   "source": [
    "# Try to solve the equation for the LIF.\n",
    "# Start with a constant input current below the firing threshold.\n",
    "\n",
    "dt = 0.01 # time step in ms\n",
    "T = 100.0 # duration in ms\n",
    "t = arange(0,T,dt)\n",
    "\n",
    "# ..."
   ]
  },
  {
   "cell_type": "markdown",
   "metadata": {},
   "source": [
    "Of great interest in neuroscience is generally the timing of spikes of individual neurons. The attractivity of Integrate-and-Fire neurons is their possibility to generate such spiketimes in well-controlled settings."
   ]
  },
  {
   "cell_type": "code",
   "execution_count": null,
   "metadata": {},
   "outputs": [],
   "source": [
    "# How does the membrane voltage evolve with a constant input current \n",
    "# above the firing threshold?\n",
    "\n",
    "# When the neuron spikes, add the spiketime to a list:\n",
    "spiketimes = []\n",
    "# --> whenever there's a spike at time 'time', do \n",
    "spiketimes.append(time)\n"
   ]
  },
  {
   "cell_type": "code",
   "execution_count": null,
   "metadata": {},
   "outputs": [],
   "source": [
    "# Plot the membrane potential v(t) together with the spikes\n",
    "dummytimes = [3, 23, 49, 52, 78, 90]\n",
    "plot(t, sin(0.1*t), label='demo voltage')\n",
    "for time in dummytimes:\n",
    "    axvline(time, color='k')\n",
    "plot([],[],'k',label='spikes')\n",
    "legend()"
   ]
  },
  {
   "cell_type": "markdown",
   "metadata": {},
   "source": [
    "We can use our numerical solution of the LIF to check the theoretical prediction of the firing rate, i.e.,\n",
    "\n",
    "$$f(I) = \\frac{1}{\\tau_m} \\left(\\log\\frac{E_L+I/g_L-V_{\\rm reset}}{E_L+I/g_L-V_{\\rm threshold}}\\right)^{-1}$$"
   ]
  },
  {
   "cell_type": "code",
   "execution_count": null,
   "metadata": {},
   "outputs": [],
   "source": [
    "# Can you calculate the firing rate (the inverse \n",
    "# interspike interval, or ISI) for different values\n",
    "# of the input current?"
   ]
  },
  {
   "cell_type": "markdown",
   "metadata": {},
   "source": [
    "### Simulation of a noisy LIF!\n",
    "\n",
    "Instead of a deterministic, or even constant input current $I(t)$, we now consider a noisy input that represents the combined effect of many presynaptic neurons:\n",
    "\n",
    "$$I(t) = I_0 + \\sigma \\xi(t),$$\n",
    "\n",
    "where $I_0$ is the (constant) mean input, $\\sigma$ is a parameter that represents the noise strength, and $\\xi(t)$ is a Gaussian stochastic process (normal-distributed) with correlation function $\\langle\\xi(t)\\xi(t')\\rangle=\\delta(t-t')$. \n",
    "\n",
    "In discretized form, the resulting _**stochastic differential equation**_ becomes\n",
    "\n",
    "$$v_{i+1} = v_i + \\Delta t \\left[\\left(\\frac{dv}{dt}\\right)_{\\rm det}(v_i, t_i) + \\sigma\\sqrt{\\frac{\\tau_m}{\\Delta t}} \\xi_i\\right],$$\n",
    "\n",
    "where $\\xi_i$ is now a random number drawn from a normal distribution with zero mean and normalized standard deviation."
   ]
  },
  {
   "cell_type": "code",
   "execution_count": null,
   "metadata": {},
   "outputs": [],
   "source": [
    "# We get a single random number using\n",
    "xi = randn()\n",
    "print(xi)\n",
    "\n",
    "# We can check that the histogram of many of \n",
    "# of these gives a normal (Gauss) distribution:\n",
    "hist(randn(1000000), bins=100, density=True)\n",
    "x = linspace(-4,4,201)\n",
    "plot(x, exp(-x**2/2)/sqrt(2*pi), color='r',linewidth=2)"
   ]
  },
  {
   "cell_type": "code",
   "execution_count": null,
   "metadata": {},
   "outputs": [],
   "source": [
    "# Can you solve the stochastic ODE numerically?\n",
    "sigma = 2.0\n",
    "\n",
    "# ..."
   ]
  }
 ],
 "metadata": {
  "kernelspec": {
   "display_name": "Python 3",
   "language": "python",
   "name": "python3"
  },
  "language_info": {
   "codemirror_mode": {
    "name": "ipython",
    "version": 3
   },
   "file_extension": ".py",
   "mimetype": "text/x-python",
   "name": "python",
   "nbconvert_exporter": "python",
   "pygments_lexer": "ipython3",
   "version": "3.7.3"
  }
 },
 "nbformat": 4,
 "nbformat_minor": 2
}
