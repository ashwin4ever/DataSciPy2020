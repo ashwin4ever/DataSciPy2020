{
 "cells": [
  {
   "cell_type": "markdown",
   "metadata": {},
   "source": [
    "# E1 First steps in Python"
   ]
  },
  {
   "cell_type": "markdown",
   "metadata": {},
   "source": [
    "1. Import the `numpy` module and create a 1-dimensional numpy array - called `x` - containing 10000 equally spaced numbers between 0 and 10.  "
   ]
  },
  {
   "cell_type": "code",
   "execution_count": 35,
   "metadata": {},
   "outputs": [
    {
     "name": "stdout",
     "output_type": "stream",
     "text": [
      "This is how x looks like : [0.00000000e+00 1.00010001e-03 2.00020002e-03 ... 9.99799980e+00\n",
      " 9.99899990e+00 1.00000000e+01]\n",
      "X has  10000  elements.\n"
     ]
    }
   ],
   "source": [
    "# your code goes here\n",
    "import numpy as np\n",
    "\n",
    "x = np.linspace(0,10,10000) # creates an array between 0 and 10 filled with 10000 equally spaced numbers \n",
    "\n",
    "print('This is how x looks like :',x)\n",
    "print('X has ',len(x),' elements.')"
   ]
  },
  {
   "cell_type": "markdown",
   "metadata": {},
   "source": [
    "2. Print the following values and subsets of values of the array `x` to the screen : \n",
    " * the 3340th and the 8888th element (note that the index starts with 0 and not with 1, i.e., the index of the 1st value is 0)\n",
    " * all values between the 2000th and the 3000th element"
   ]
  },
  {
   "cell_type": "code",
   "execution_count": 36,
   "metadata": {},
   "outputs": [
    {
     "name": "stdout",
     "output_type": "stream",
     "text": [
      "The 3340th element of the array is :  3.3393339333933394\n",
      "The 8888th element of the array is :  8.887888788878888\n",
      "The values of x between the 2000th and the 3000th elements are : [1.99919992 2.00020002 2.00120012 ... 2.99729973 2.99829983 2.99929993]\n"
     ]
    }
   ],
   "source": [
    "# your codes goes here\n",
    "print('The 3340th element of the array is : ',x[3339])\n",
    "print('The 8888th element of the array is : ',x[8887])\n",
    "\n",
    "print('The values of x between the 2000th and the 3000th elements are :',x[1999:3000])"
   ]
  },
  {
   "cell_type": "markdown",
   "metadata": {},
   "source": [
    "3. Reshape the one-dimensional array `x` to a two-dimensional matrix `y` of the size 100x100.   "
   ]
  },
  {
   "cell_type": "code",
   "execution_count": 37,
   "metadata": {},
   "outputs": [
    {
     "name": "stdout",
     "output_type": "stream",
     "text": [
      "The shape of array y is  (100, 100)\n",
      "[[0.00000000e+00 1.00010001e-03 2.00020002e-03 ... 9.70097010e-02\n",
      "  9.80098010e-02 9.90099010e-02]\n",
      " [1.00010001e-01 1.01010101e-01 1.02010201e-01 ... 1.97019702e-01\n",
      "  1.98019802e-01 1.99019902e-01]\n",
      " [2.00020002e-01 2.01020102e-01 2.02020202e-01 ... 2.97029703e-01\n",
      "  2.98029803e-01 2.99029903e-01]\n",
      " ...\n",
      " [9.70097010e+00 9.70197020e+00 9.70297030e+00 ... 9.79797980e+00\n",
      "  9.79897990e+00 9.79998000e+00]\n",
      " [9.80098010e+00 9.80198020e+00 9.80298030e+00 ... 9.89798980e+00\n",
      "  9.89898990e+00 9.89999000e+00]\n",
      " [9.90099010e+00 9.90199020e+00 9.90299030e+00 ... 9.99799980e+00\n",
      "  9.99899990e+00 1.00000000e+01]]\n"
     ]
    }
   ],
   "source": [
    "# your code goes here\n",
    "y = x.reshape(100,100)\n",
    "\n",
    "print('The shape of array y is ',np.shape(y))\n",
    "print(y)"
   ]
  }
 ],
 "metadata": {
  "kernelspec": {
   "display_name": "Python 3",
   "language": "python",
   "name": "python3"
  },
  "language_info": {
   "codemirror_mode": {
    "name": "ipython",
    "version": 3
   },
   "file_extension": ".py",
   "mimetype": "text/x-python",
   "name": "python",
   "nbconvert_exporter": "python",
   "pygments_lexer": "ipython3",
   "version": "3.6.7"
  }
 },
 "nbformat": 4,
 "nbformat_minor": 2
}
