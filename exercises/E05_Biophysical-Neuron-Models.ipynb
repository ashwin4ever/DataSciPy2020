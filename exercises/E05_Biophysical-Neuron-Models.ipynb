{
 "cells": [
  {
   "cell_type": "markdown",
   "metadata": {
    "cell_id": "00000-3c8d1e65-3de1-4f8c-9091-854ef4bf1ce0"
   },
   "source": [
    "#E05 : Numerical integration of ODEs, and application to the Leaky Integrate-and-Fire neuron model -- Homework\n",
    "---\n",
    "\n",
    "Based on the tutorial, we will use simulations of the LIF to check analytical results for the f-I curve that predicts the firing rate of the LIF as a funtion of the input current.\n",
    "\n",
    "### Let us first plot the analytical solution for the firing rate \n",
    "\n",
    "The time from one spike to the next must be exactly the time it takes to reach the spike threshold when starting from the reset potential: $V(T)=V_{\\rm threshold}$. Using the analytical solution for $V(t)$, with $V(t=0)=V_{\\rm reset}$,  allows us to calculate the firing rate $f(I)$:\n",
    "\n",
    "$$f(I) = \\frac{1}{\\tau_m} \\left(\\log\\frac{E_L+I/g_L-V_{\\rm reset}}{E_L+I/g_L-V_{\\rm threshold}}\\right)^{-1}$$\n"
   ]
  },
  {
   "cell_type": "code",
   "execution_count": 3,
   "metadata": {
    "cell_id": "00002-05ac4354-1dcc-4d5f-908e-a89fed95c5fb",
    "output_cleared": false
   },
   "outputs": [],
   "source": [
    "# some imports for the numerics to follow, you'll be familiar with these\n",
    "%matplotlib inline\n",
    "import numpy as np\n",
    "import matplotlib.pyplot as plt"
   ]
  },
  {
   "cell_type": "code",
   "execution_count": 4,
   "metadata": {
    "cell_id": "00003-c13f9f41-1518-4c0b-9a59-3bfa67eedb64",
    "output_cleared": false,
    "scrolled": true
   },
   "outputs": [
    {
     "data": {
      "text/plain": [
       "<matplotlib.legend.Legend at 0x7f285b652f98>"
      ]
     },
     "execution_count": 4,
     "metadata": {},
     "output_type": "execute_result"
    },
    {
     "data": {
      "image/png": "[encoded data removed]",
      "text/plain": [
       "<Figure size 432x288 with 1 Axes>"
      ]
     },
     "metadata": {
      "needs_background": "light"
     },
     "output_type": "display_data"
    }
   ],
   "source": [
    "# define parameters\n",
    "tau = 7.     # decay time constant, in ms\n",
    "V0 = -70.    # initial voltage, in mV\n",
    "EL = -50.    # resting potential, in mV\n",
    "Vthreshold = -30. # mV\n",
    "Vreset = -55.0    # mV\n",
    "\n",
    "def fI_analytical(IgL):\n",
    "    \"\"\"Firing rate (in Hz) of the LIF as a function \n",
    "    of the effective input I/g_L.\"\"\"\n",
    "    # if the current is below a firing threshold,\n",
    "    # the voltage does not reach threshold and the\n",
    "    # firing rate is zero\n",
    "    IgL_threshold = Vthreshold - EL\n",
    "    if IgL <= IgL_threshold:\n",
    "        return 0.0\n",
    "    T_isi = tau * np.log((EL+IgL-Vreset)/(EL+IgL-Vthreshold))\n",
    "    rate = 1000/T_isi # rate in Hz\n",
    "    return rate\n",
    "\n",
    "Ivals = np.arange(10., 30, 0.01)\n",
    "rates_analytical = [fI_analytical(I) for I in Ivals]\n",
    "\n",
    "fig, ax = plt.subplots()\n",
    "ax.plot(Ivals, rates_analytical, label='Analytical')\n",
    "ax.set_xlabel('Input I/gL (mV)')\n",
    "ax.set_ylabel('Firing rate (Hz)')\n",
    "ax.legend()"
   ]
  },
  {
   "cell_type": "markdown",
   "metadata": {},
   "source": [
    "#### Homework questions:\n",
    "\n",
    "1. Simulate the LIF for a duration of 1s, for the value of `IgL = 21.0` (use the code from the in-class tutorial from the **Simulation of a Leaky Integrate-and-Fire neuron** section). Plot the voltage dynamics. How many spikes do you count?\n",
    "2. Repeat the simulation of the LIF for different values of the input, `Igl_vals = [17.5, 20.5, 21., 21.5, 22., 25.]`. Record each time the number of spikes. \n",
    "3. From the recorded spiketimes or number of spikes, calculate the firing rate for each of the above values of the input.\n",
    "4. Plot your results for the firing rate obtained by simulations together with the analytical result for the firing rate (see above)."
   ]
  },
  {
   "cell_type": "code",
   "execution_count": 3,
   "metadata": {
    "cell_id": "00003-c13f9f41-1518-4c0b-9a59-3bfa67eedb64",
    "output_cleared": false
   },
   "outputs": [],
   "source": [
    "# Your code"
   ]
  }
 ],
 "metadata": {
  "deepnote_execution_queue": [],
  "deepnote_notebook_id": "eb075706-810a-4ca1-b9d7-7b73f5b85d74",
  "kernelspec": {
   "display_name": "Python 3",
   "language": "python",
   "name": "python3"
  },
  "language_info": {
   "codemirror_mode": {
    "name": "ipython",
    "version": 3
   },
   "file_extension": ".py",
   "mimetype": "text/x-python",
   "name": "python",
   "nbconvert_exporter": "python",
   "pygments_lexer": "ipython3",
   "version": "3.6.7"
  }
 },
 "nbformat": 4,
 "nbformat_minor": 2
}
