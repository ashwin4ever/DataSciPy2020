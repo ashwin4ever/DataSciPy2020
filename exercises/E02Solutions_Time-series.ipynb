{
 "cells": [
  {
   "cell_type": "markdown",
   "metadata": {},
   "source": [
    "# E02 Time series - solutions"
   ]
  },
  {
   "cell_type": "markdown",
   "metadata": {},
   "source": [
    "1. Download the numpy binary file `time-series4.npy` located in the `excercises` folder of the [github repository](https://github.com/mgraupe/DataSciPy/tree/master/excercises) or the moodle. Load the file using the numpy `load` function and save the imported data in variable named `data4` (note that the `time-series4.npy` file needs to be located in the same folder as the jupyter-notebook)."
   ]
  },
  {
   "cell_type": "code",
   "execution_count": 1,
   "metadata": {},
   "outputs": [
    {
     "data": {
      "text/plain": [
       "Text(0, 0.5, 'transmembrane voltage (mV)')"
      ]
     },
     "execution_count": 1,
     "metadata": {},
     "output_type": "execute_result"
    },
    {
     "data": {
      "image/png": "[encoded data removed]",
      "text/plain": [
       "<Figure size 432x288 with 1 Axes>"
      ]
     },
     "metadata": {
      "needs_background": "light"
     },
     "output_type": "display_data"
    }
   ],
   "source": [
    "import numpy as np\n",
    "import matplotlib.pyplot as plt\n",
    "%matplotlib inline\n",
    "data4 = np.load('time-series4.npy')\n",
    "\n",
    "# note that the code below to generate a figure is not part of the assignment of exercise 1 \n",
    "plt.plot(data4[0],data4[1]*1000.)\n",
    "plt.plot(data4[0,:2000],data4[1,:2000]*1000.)\n",
    "plt.plot(data4[0,24999:27000],data4[1,24999:27000]*1000.)\n",
    "plt.xlabel('time (s)')\n",
    "plt.ylabel('transmembrane voltage (mV)')"
   ]
  },
  {
   "cell_type": "markdown",
   "metadata": {},
   "source": [
    "2. In the loaded array, the first row contains the time-points (in seconds) at which the transmembrane potential (in volts, in the 2nd row) were recorded. What is the time interval between each individual potential recording ? What is the frequency - the acquistion frequency, or the sampling rate - of the recording? (**Hint** : this can be calculated directly from the interval between individual time-points)"
   ]
  },
  {
   "cell_type": "code",
   "execution_count": 2,
   "metadata": {},
   "outputs": [
    {
     "name": "stdout",
     "output_type": "stream",
     "text": [
      "[2.e-05 2.e-05 2.e-05 ... 2.e-05 2.e-05 2.e-05]\n",
      "The interval between recorings is :  0.02  ms\n",
      "The sampling rate is :  49999.99999999999  Hz\n"
     ]
    }
   ],
   "source": [
    "intervals = np.diff(data4[0])\n",
    "print(intervals)\n",
    "print('The interval between recorings is : ', intervals[0]*1000, ' ms')\n",
    "frequency = 1./intervals[0]\n",
    "print('The sampling rate is : ', frequency, ' Hz')"
   ]
  },
  {
   "cell_type": "markdown",
   "metadata": {},
   "source": [
    "3. Calculate the mean of the first 2000 data-points, and the mean of all data-points betweeen the 25,000th and 27,000th element. "
   ]
  },
  {
   "cell_type": "code",
   "execution_count": 5,
   "metadata": {},
   "outputs": [
    {
     "name": "stdout",
     "output_type": "stream",
     "text": [
      "the mean of the first 2000 data-points is : -59.335762568818936 mV\n",
      "the mean of all points betweeen the 25,000th and 27,000th element is : -88.48349946739017  mV\n"
     ]
    }
   ],
   "source": [
    "print('the mean of the first 2000 data-points is :',np.mean(data4[1,:2000])*1000., 'mV')\n",
    "print('the mean of all points betweeen the 25,000th and 27,000th element is :', np.mean(data4[1,24999:27000])*1000,' mV')"
   ]
  },
  {
   "cell_type": "markdown",
   "metadata": {},
   "source": [
    "### The information below is not part of the homework assignment\n",
    "\n",
    "Remember Ohm's law : R = U/I . In this experiment, a hyperpolarizing current has been injected. The input resistance of the neuron can be calcualted from the measured change in membrane potential. The injected current was I = -0.1 nA. In turn, the input resistance is : "
   ]
  },
  {
   "cell_type": "code",
   "execution_count": 6,
   "metadata": {},
   "outputs": [],
   "source": [
    "R = (-0.08848334108187636-(-0.05933576256881894))/(-0.1E-9)"
   ]
  },
  {
   "cell_type": "code",
   "execution_count": 7,
   "metadata": {},
   "outputs": [
    {
     "name": "stdout",
     "output_type": "stream",
     "text": [
      "The input resistance of the neuron is :  291.47578513057425 MOhm\n"
     ]
    }
   ],
   "source": [
    "print('The input resistance of the neuron is : ',R/1E6, 'MOhm')"
   ]
  }
 ],
 "metadata": {
  "kernelspec": {
   "display_name": "Python 3",
   "language": "python",
   "name": "python3"
  },
  "language_info": {
   "codemirror_mode": {
    "name": "ipython",
    "version": 3
   },
   "file_extension": ".py",
   "mimetype": "text/x-python",
   "name": "python",
   "nbconvert_exporter": "python",
   "pygments_lexer": "ipython3",
   "version": "3.6.7"
  }
 },
 "nbformat": 4,
 "nbformat_minor": 2
}
