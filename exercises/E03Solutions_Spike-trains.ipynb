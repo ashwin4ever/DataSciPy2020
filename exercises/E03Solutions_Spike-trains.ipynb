{
 "cells": [
  {
   "cell_type": "markdown",
   "metadata": {},
   "source": [
    "# E02 Time series"
   ]
  },
  {
   "cell_type": "markdown",
   "metadata": {},
   "source": [
    "This week's homework is a continuation of the in-class tutorial. \n",
    "\n",
    "Remember that we considered a neuron, that is responding to green light by emitting spikes. We have a recording electrode near the soma (the point where this neuron generates spikes). Through this electrode, we can record the time when this neuron is firing. \n",
    "The result of this recording is a list of `0`s for when no spike was emitted and `1`s for when a spike was emitted. \n",
    "\n",
    "The neuron was stimulated and recorded 10 times. Below are the spike-trains of the neuron from ten identical recordings, i.e., the green light simulus was always on during the [5,14] ms time window. The bin size of the recording is 1 ms, i.e., each individual recording is 21 ms long. "
   ]
  },
  {
   "cell_type": "code",
   "execution_count": 16,
   "metadata": {},
   "outputs": [],
   "source": [
    "import numpy as np\n",
    "\n",
    "tenSpikeTrains = np.array([[0,0,0,0,0,0,0,0,0,1,0,1,0,1,0,0,0,1,0,0,0],\\\n",
    "                  [0,0,0,0,0,0,0,0,1,1,0,0,0,1,0,0,0,1,0,0,0],\\\n",
    "                  [0,1,0,0,0,0,0,0,0,0,1,0,0,1,0,0,0,0,0,1,0],\\\n",
    "                  [0,0,0,0,0,0,0,0,1,1,0,1,0,0,0,0,0,0,1,0,0],\\\n",
    "                  [0,0,0,0,0,0,0,0,0,1,0,0,1,0,0,0,0,0,0,0,0],\\\n",
    "                  [0,0,0,0,0,0,0,0,0,0,1,1,0,0,0,1,0,0,0,1,0],\\\n",
    "                  [0,0,0,0,0,0,0,0,1,1,1,0,0,1,1,0,0,1,1,0,0],\\\n",
    "                  [1,0,0,0,0,0,0,0,0,0,1,1,0,0,0,0,1,0,0,0,0],\\\n",
    "                  [0,0,0,0,0,0,0,0,1,1,0,0,1,1,0,0,1,1,0,0,0],\\\n",
    "                  [0,0,0,0,0,0,1,0,0,1,0,1,0,0,0,0,0,1,1,0,0]])"
   ]
  },
  {
   "cell_type": "markdown",
   "metadata": {},
   "source": [
    "#### Question: What is the neuron's average firing rate during the stimulus ? \n",
    "\n",
    "In order to respond to this question, let's first visualize and condense the many stimulus trials and responses. We turn to the **peri-stimulus time histogram (PSTH)** to visualize as a bar graph the spiking of the neuron over time, just before and after (hence peri) each stimulus. This is a standard depiction of neural activity data.\n",
    "\n",
    "1. Plot the *total number of spikes* emitted in each 1 ms time bin as bar graph (using the `matplotlib.pyplot` `bar()` function). This plot is the PSTH of the neural response to visual stimulation. It shows the total number of spikes as a function of recording time. Note that the total number of spikes is calculated across all ten recordings."
   ]
  },
  {
   "cell_type": "code",
   "execution_count": 17,
   "metadata": {},
   "outputs": [
    {
     "data": {
      "image/png": "[encoded data removed]",
      "text/plain": [
       "<Figure size 432x288 with 1 Axes>"
      ]
     },
     "metadata": {
      "needs_background": "light"
     },
     "output_type": "display_data"
    }
   ],
   "source": [
    "import matplotlib.pyplot as plt\n",
    "import numpy as np\n",
    "%matplotlib inline\n",
    "\n",
    "\n",
    "plt.bar(range(21),np.sum(tenSpikeTrains,0),1) \n",
    "plt.axvspan(5,14,color='green',alpha=0.2) # note that the visualization of the stimulus period was not requested in the exercise\n",
    "plt.show()"
   ]
  },
  {
   "cell_type": "markdown",
   "metadata": {},
   "source": [
    "The `bar` function : \n",
    "1. input argument gives x values\n",
    "2. input argument provides y values which are displayed as bars. The y values are the sum across each column which are the total number of spikes in each time bin across the ten recordings. \n",
    "3. input argument provided here specifies that each bar should be of width '1'. "
   ]
  },
  {
   "cell_type": "markdown",
   "metadata": {},
   "source": [
    "2. Replot the PSTH where each bar height depicts the *mean number of spikes* in each time bin. This depiction shows the average number of spikes emitted over time. "
   ]
  },
  {
   "cell_type": "code",
   "execution_count": 18,
   "metadata": {},
   "outputs": [
    {
     "data": {
      "image/png": "[encoded data removed]",
      "text/plain": [
       "<Figure size 432x288 with 1 Axes>"
      ]
     },
     "metadata": {
      "needs_background": "light"
     },
     "output_type": "display_data"
    }
   ],
   "source": [
    "plt.bar(range(21),np.mean(tenSpikeTrains,0),1) \n",
    "plt.axvspan(5,13,color='green',alpha=0.2) # note that the visualization of the stimulus period was not requested in the exercise\n",
    "plt.show()"
   ]
  },
  {
   "cell_type": "markdown",
   "metadata": {},
   "source": [
    "Same code as for excercise 1. but instead of summing spikes across the ten recordings, we calculate now the average number of spikes in each time bin. "
   ]
  },
  {
   "cell_type": "markdown",
   "metadata": {},
   "source": [
    "3. What is the average firing rate during the stimulus period? "
   ]
  },
  {
   "cell_type": "markdown",
   "metadata": {},
   "source": [
    "To calculate the firing rate, one counts the number of spikes across a specific interval and divides that number by the duration of the period of interest. Here, the period of interest is the stimulus period, i.e., [5,14] ms, which lasts for a duration of 9 ms. \n",
    "\n",
    "Let's first calculate the average number of spikes during the stimulus period across the ten recordings. "
   ]
  },
  {
   "cell_type": "code",
   "execution_count": 19,
   "metadata": {},
   "outputs": [
    {
     "name": "stdout",
     "output_type": "stream",
     "text": [
      "[0.  0.1 0.  0.4 0.7 0.4 0.5 0.2 0.5]\n"
     ]
    }
   ],
   "source": [
    "# average number of spikes during the stimulus period\n",
    "\n",
    "avgNumberSpikesDuringStimulus = np.average(tenSpikeTrains[:,5:14],0)\n",
    "print(avgNumberSpikesDuringStimulus)"
   ]
  },
  {
   "cell_type": "markdown",
   "metadata": {},
   "source": [
    "We now sum the spikes - here the average number of spikes - across the stimulus period and divide by the duration. "
   ]
  },
  {
   "cell_type": "code",
   "execution_count": 20,
   "metadata": {},
   "outputs": [
    {
     "name": "stdout",
     "output_type": "stream",
     "text": [
      "The average number of spikes during the stimulus period is :  2.8\n",
      "The average firing rate during the stimulus is :  311.11111111111114 spikes/sec\n"
     ]
    }
   ],
   "source": [
    "sumOfSpikesDuringStimulus = np.sum(avgNumberSpikesDuringStimulus)\n",
    "\n",
    "# for the firing rate, the average number of spikes is divided by the duration of the period of interest\n",
    "firingRate = sumOfSpikesDuringStimulus/0.009\n",
    "print('The average number of spikes during the stimulus period is : ', sumOfSpikesDuringStimulus)\n",
    "print('The average firing rate during the stimulus is : ', firingRate, 'spikes/sec')"
   ]
  }
 ],
 "metadata": {
  "kernelspec": {
   "display_name": "Python 3",
   "language": "python",
   "name": "python3"
  },
  "language_info": {
   "codemirror_mode": {
    "name": "ipython",
    "version": 3
   },
   "file_extension": ".py",
   "mimetype": "text/x-python",
   "name": "python",
   "nbconvert_exporter": "python",
   "pygments_lexer": "ipython3",
   "version": "3.6.7"
  }
 },
 "nbformat": 4,
 "nbformat_minor": 2
}
