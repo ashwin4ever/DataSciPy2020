{
 "cells": [
  {
   "cell_type": "markdown",
   "metadata": {},
   "source": [
    "# E06 Regression analysis"
   ]
  },
  {
   "cell_type": "markdown",
   "metadata": {},
   "source": [
    "This weeks homework asks you to perform a **linear regression analysis** on actual data. The aim is investigate whether a linear relationship between the independent and the dependent variable exists. \n",
    "\n",
    "The data-set contains cricket chirps (dependent variable) versus temperature (independent variable). The chrip rate is measured in chirps/sec for the [striped ground cricket](http://songsofinsects.com/crickets/striped-ground-cricket) at a given temperature which is provided in degrees celisus. The data is taken from [The Song of Insects by Dr.G.W. Pierce, Harvard College Press](https://www.hup.harvard.edu/catalog.php?isbn=9780674420663) .\n",
    "\n",
    "The data is given below in the cricketData `numpy` array. Note that the *first column contains the chirps/sec* and the *second column contains the temperature* in celsius. \n"
   ]
  },
  {
   "cell_type": "code",
   "execution_count": 9,
   "metadata": {},
   "outputs": [],
   "source": [
    "import numpy as np\n",
    "import matplotlib.pyplot as plt\n",
    "%matplotlib inline\n",
    "\n",
    "cricketData = np.array(([20.         ,31.44444359],\n",
    " [16.         ,21.99999915],\n",
    " [19.79999924 ,34.05555725],\n",
    " [18.39999962 ,29.05555725],\n",
    " [17.10000038 ,26.99999915],\n",
    " [15.5        ,23.99999831],\n",
    " [14.69999981 ,20.94444275],\n",
    " [17.10000038 ,27.77777778],\n",
    " [15.39999962 ,20.77777863],\n",
    " [16.20000076 ,28.50000169],\n",
    " [15.         ,26.44444359],\n",
    " [17.20000076 ,28.11111026],\n",
    " [16.         ,26.99999915],\n",
    " [17.         ,28.61111111],\n",
    " [14.39999962 ,24.61111281]))"
   ]
  },
  {
   "cell_type": "code",
   "execution_count": 10,
   "metadata": {},
   "outputs": [
    {
     "data": {
      "text/plain": [
       "[<matplotlib.lines.Line2D at 0x7f29bf8bae10>]"
      ]
     },
     "execution_count": 10,
     "metadata": {},
     "output_type": "execute_result"
    },
    {
     "data": {
      "image/png": "[encoded data removed]",
      "text/plain": [
       "<Figure size 432x288 with 1 Axes>"
      ]
     },
     "metadata": {
      "needs_background": "light"
     },
     "output_type": "display_data"
    }
   ],
   "source": [
    "plt.plot(cricketData[:,1],cricketData[:,0],'o')"
   ]
  },
  {
   "cell_type": "markdown",
   "metadata": {},
   "source": [
    "Here are the specific questions related to this data-set : \n",
    "\n",
    "1. Perform a linear regression analysis on the cricket chirp data-set. Treat the temperature as independent variable and the chirp rate (in chrips/sec) as dependent variable. Remember from the course that the dependent variable is the one which you aim to predict based on changes in the independent variable. Check out the [tutorial T6 - Regression analysis](https://github.com/mgraupe/DataSciPy2020/blob/master/tutorials/T06_Regression-analysis.ipynb) for two ways of how a linear regression analysis can be performed. "
   ]
  },
  {
   "cell_type": "code",
   "execution_count": 11,
   "metadata": {},
   "outputs": [
    {
     "name": "stdout",
     "output_type": "stream",
     "text": [
      "LinregressResult(slope=0.3814649611357892, intercept=6.472457405198028, rvalue=0.8351437870409351, pvalue=0.00010667185495712752, stderr=0.06968020671217373)\n"
     ]
    }
   ],
   "source": [
    "# your code goes here \n",
    "from scipy.stats import linregress\n",
    "\n",
    "linregressCricket = linregress(cricketData[:,1],cricketData[:,0])\n",
    "print(linregressCricket)"
   ]
  },
  {
   "cell_type": "markdown",
   "metadata": {},
   "source": [
    "2. Plot the cricket-data together with the regression line obtained from the linear regression analysis. "
   ]
  },
  {
   "cell_type": "code",
   "execution_count": 12,
   "metadata": {},
   "outputs": [
    {
     "data": {
      "text/plain": [
       "[<matplotlib.lines.Line2D at 0x7f29bf8666d8>]"
      ]
     },
     "execution_count": 12,
     "metadata": {},
     "output_type": "execute_result"
    },
    {
     "data": {
      "image/png": "[encoded data removed]",
      "text/plain": [
       "<Figure size 432x288 with 1 Axes>"
      ]
     },
     "metadata": {
      "needs_background": "light"
     },
     "output_type": "display_data"
    }
   ],
   "source": [
    "# your code goes here \n",
    "# the weights of the linear regression are stored in the first and second element of the return from linregress\n",
    "# the first element is the slope, the second one the intercept with y axishttps://matplotlib.org/mpl_toolkits/mplot3d/tutorial.html\n",
    "yPredict = linregressCricket[0]*cricketData[:,1] + linregressCricket[1]\n",
    "\n",
    "plt.plot(cricketData[:,1],yPredict)\n",
    "plt.plot(cricketData[:,1],cricketData[:,0],'o')"
   ]
  },
  {
   "cell_type": "markdown",
   "metadata": {},
   "source": [
    "3. What is the R squared value obtaind through the linear regression analysis on the cricket data? "
   ]
  },
  {
   "cell_type": "code",
   "execution_count": 13,
   "metadata": {},
   "outputs": [
    {
     "name": "stdout",
     "output_type": "stream",
     "text": [
      "The R squared values of the linear regression is :  0.6974651450330747\n"
     ]
    }
   ],
   "source": [
    "# your code goes here\n",
    "print('The R squared values of the linear regression is : ',linregressCricket[2]**2)"
   ]
  },
  {
   "cell_type": "markdown",
   "metadata": {},
   "source": [
    "4. Using the regression line from the linear regression analysis make a prediction of the cricket behavior for a temperature which is outside the range of measured values. Specifically, which rate of chirps would the linear regression predict for  40 °C. "
   ]
  },
  {
   "cell_type": "code",
   "execution_count": 14,
   "metadata": {},
   "outputs": [
    {
     "name": "stdout",
     "output_type": "stream",
     "text": [
      "Based on the regression line, one would predict  21.73  chirps/sec at 40  degrees celsius.\n"
     ]
    }
   ],
   "source": [
    "# your code goes here\n",
    "temp = 40\n",
    "yPredict40 = linregressCricket[0]*temp + linregressCricket[1]\n",
    "print('Based on the regression line, one would predict ',np.round(yPredict40,2),' chirps/sec at',temp,' degrees celsius.')"
   ]
  },
  {
   "cell_type": "code",
   "execution_count": 15,
   "metadata": {},
   "outputs": [
    {
     "data": {
      "text/plain": [
       "[<matplotlib.lines.Line2D at 0x7f29bf7edb70>]"
      ]
     },
     "execution_count": 15,
     "metadata": {},
     "output_type": "execute_result"
    },
    {
     "data": {
      "image/png": "[encoded data removed]",
      "text/plain": [
       "<Figure size 432x288 with 1 Axes>"
      ]
     },
     "metadata": {
      "needs_background": "light"
     },
     "output_type": "display_data"
    }
   ],
   "source": [
    "plt.plot(cricketData[:,1],yPredict)\n",
    "plt.plot(cricketData[:,1],cricketData[:,0],'o')\n",
    "plt.plot(temp,yPredict40,'o')"
   ]
  }
 ],
 "metadata": {
  "kernelspec": {
   "display_name": "Python 3",
   "language": "python",
   "name": "python3"
  },
  "language_info": {
   "codemirror_mode": {
    "name": "ipython",
    "version": 3
   },
   "file_extension": ".py",
   "mimetype": "text/x-python",
   "name": "python",
   "nbconvert_exporter": "python",
   "pygments_lexer": "ipython3",
   "version": "3.6.7"
  }
 },
 "nbformat": 4,
 "nbformat_minor": 2
}
